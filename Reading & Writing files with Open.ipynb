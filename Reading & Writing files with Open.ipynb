{
 "cells": [
  {
   "cell_type": "code",
   "execution_count": 1,
   "id": "c3c908aa",
   "metadata": {},
   "outputs": [],
   "source": [
    "# Step 1: Open the file in read ('r') mode \n",
    "#The 'r' mode indicates that the file will be opened for reading.\n",
    "file = open('sc.txt' , 'r')"
   ]
  },
  {
   "cell_type": "code",
   "execution_count": 2,
   "id": "32abf4ef",
   "metadata": {},
   "outputs": [
    {
     "data": {
      "text/plain": [
       "<_io.TextIOWrapper name='sc.txt' mode='r' encoding='cp1252'>"
      ]
     },
     "execution_count": 2,
     "metadata": {},
     "output_type": "execute_result"
    }
   ],
   "source": [
    "file"
   ]
  },
  {
   "cell_type": "code",
   "execution_count": 3,
   "id": "81f1aba2",
   "metadata": {},
   "outputs": [
    {
     "name": "stdout",
     "output_type": "stream",
     "text": [
      "Title: Quantum Mechanics\n",
      "\n",
      "Quantum mechanics is a fundamental theory in physics that provides a description of the physical properties of nature at the scale of atoms and subatomic particles.\n"
     ]
    }
   ],
   "source": [
    "# Step 2: Read the file content\n",
    "content = file.read()\n",
    "print(content)"
   ]
  },
  {
   "cell_type": "code",
   "execution_count": 4,
   "id": "a7c40765",
   "metadata": {},
   "outputs": [],
   "source": [
    "# Step 4: Close the file explicitly when done\n",
    "file.close()"
   ]
  },
  {
   "cell_type": "code",
   "execution_count": 5,
   "id": "770f6821",
   "metadata": {},
   "outputs": [
    {
     "name": "stdout",
     "output_type": "stream",
     "text": [
      "Title: Quantum Mechanics\n",
      "\n",
      "Quantum mechanics is a fundamental theory in physics that provides a description of the physical properties of nature at the scale of atoms and subatomic particles.\n"
     ]
    }
   ],
   "source": [
    "# Step 1: Open the file using 'with' in read ('r') mode , To simplify file handling\n",
    "with open('sc.txt' , 'r') as file2:\n",
    "    cont = file2.read()\n",
    "    print(cont)\n",
    "# Step 4: The file is automatically closed when the 'with' block exits"
   ]
  },
  {
   "cell_type": "code",
   "execution_count": 6,
   "id": "ffd01ce7",
   "metadata": {},
   "outputs": [
    {
     "data": {
      "text/plain": [
       "'Title: Quantum Mechanics\\n\\nQuantum mechanics is a fundamental theory in physics that provides a description of the physical properties of nature at the scale of atoms and subatomic particles.'"
      ]
     },
     "execution_count": 6,
     "metadata": {},
     "output_type": "execute_result"
    }
   ],
   "source": [
    "cont"
   ]
  },
  {
   "cell_type": "code",
   "execution_count": 7,
   "id": "9a52a6e5",
   "metadata": {},
   "outputs": [
    {
     "name": "stdout",
     "output_type": "stream",
     "text": [
      "Title: Quantum Mechanics\n",
      "\n"
     ]
    }
   ],
   "source": [
    "file3 = open('sc.txt' , 'r')\n",
    "\n",
    "\n",
    "line = file3.readline()\n",
    "print(line)\n",
    "\n",
    "    "
   ]
  },
  {
   "cell_type": "code",
   "execution_count": 8,
   "id": "e734bc46",
   "metadata": {},
   "outputs": [
    {
     "name": "stdout",
     "output_type": "stream",
     "text": [
      "\n",
      "\n"
     ]
    }
   ],
   "source": [
    "line1 = file3.readline()\n",
    "\n",
    "print(line1)"
   ]
  },
  {
   "cell_type": "code",
   "execution_count": 9,
   "id": "b914df01",
   "metadata": {},
   "outputs": [
    {
     "name": "stdout",
     "output_type": "stream",
     "text": [
      "NO\n"
     ]
    }
   ],
   "source": [
    "if 'Quantum' in line1:\n",
    "    print('yes')\n",
    "else: \n",
    "        print ('NO')"
   ]
  },
  {
   "cell_type": "code",
   "execution_count": 10,
   "id": "51210114",
   "metadata": {},
   "outputs": [],
   "source": [
    "file3.close()"
   ]
  },
  {
   "cell_type": "code",
   "execution_count": null,
   "id": "5b68f98c",
   "metadata": {},
   "outputs": [],
   "source": [
    "# Create a new file Example2.txt for writing\n",
    "with open('Example2.txt', 'w') as File1:\n",
    "    File1.write(\"This is line A\\n\")\n",
    "    File1.write(\"This is line B\\n\")\n",
    "    # File1 is automatically closed when the 'with' block exits"
   ]
  },
  {
   "cell_type": "code",
   "execution_count": null,
   "id": "c79cb4ce",
   "metadata": {},
   "outputs": [],
   "source": [
    "# List of lines to write to the file\n",
    "Lines = [\"This is line 1\", \"This is line 2\", \"This is line 3\"]\n",
    "# Create a new file Example3.txt for writing\n",
    "with open('Example3.txt', 'w') as File2:\n",
    "    for line in Lines:\n",
    "        File2.write(line + \"\\n\")\n",
    "    # File2 is automatically closed when the 'with' block exits"
   ]
  },
  {
   "cell_type": "code",
   "execution_count": null,
   "id": "628900e2",
   "metadata": {},
   "outputs": [],
   "source": [
    "# Data to append to the existing file\n",
    "new_data = \"This is line C\"\n",
    "# Open an existing file Example2.txt for appending\n",
    "with open('Example2.txt', 'a') as File1:\n",
    "    File1.write(new_data + \"\\n\")\n",
    "    # File1 is automatically closed when the 'with' block exits"
   ]
  },
  {
   "cell_type": "code",
   "execution_count": null,
   "id": "248bfff0",
   "metadata": {},
   "outputs": [],
   "source": [
    "# Open the source file for reading\n",
    "with open('source.txt', 'r') as source_file:\n",
    "    # Open the destination file for writing\n",
    "    with open('destination.txt', 'w') as destination_file:\n",
    "        # Read lines from the source file and copy them to the destination file\n",
    "        for line in source_file:\n",
    "            destination_file.write(line)\n",
    "    # Destination file is automatically closed when the 'with' block exits\n",
    "# Source file is automatically closed when the 'with' block exits"
   ]
  }
 ],
 "metadata": {
  "kernelspec": {
   "display_name": "Python 3 (ipykernel)",
   "language": "python",
   "name": "python3"
  },
  "language_info": {
   "codemirror_mode": {
    "name": "ipython",
    "version": 3
   },
   "file_extension": ".py",
   "mimetype": "text/x-python",
   "name": "python",
   "nbconvert_exporter": "python",
   "pygments_lexer": "ipython3",
   "version": "3.9.12"
  }
 },
 "nbformat": 4,
 "nbformat_minor": 5
}
